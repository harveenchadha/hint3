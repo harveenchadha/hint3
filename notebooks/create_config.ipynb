{
 "cells": [
  {
   "cell_type": "code",
   "execution_count": 9,
   "metadata": {},
   "outputs": [],
   "source": [
    "import pandas as pd\n",
    "import json"
   ]
  },
  {
   "cell_type": "code",
   "execution_count": 2,
   "metadata": {},
   "outputs": [],
   "source": [
    "df_train = pd.read_csv('../data/raw/sofmattress_train.csv')\n",
    "df_test = pd.read_csv('../data/raw/sofmattress_test.csv')"
   ]
  },
  {
   "cell_type": "code",
   "execution_count": 3,
   "metadata": {},
   "outputs": [],
   "source": [
    "df = pd.concat([df_train, df_test])"
   ]
  },
  {
   "cell_type": "code",
   "execution_count": 5,
   "metadata": {},
   "outputs": [
    {
     "data": {
      "text/plain": [
       "22"
      ]
     },
     "execution_count": 5,
     "metadata": {},
     "output_type": "execute_result"
    }
   ],
   "source": [
    "df.label.nunique()"
   ]
  },
  {
   "cell_type": "code",
   "execution_count": 6,
   "metadata": {},
   "outputs": [],
   "source": [
    "list_labels = list(df.label.unique())"
   ]
  },
  {
   "cell_type": "code",
   "execution_count": 7,
   "metadata": {},
   "outputs": [],
   "source": [
    "dict_labels = {}\n",
    "for index, label in enumerate(list_labels):\n",
    "    dict_labels[index] = label"
   ]
  },
  {
   "cell_type": "code",
   "execution_count": 11,
   "metadata": {},
   "outputs": [
    {
     "data": {
      "text/plain": [
       "{'EMI': 0,\n",
       " 'COD': 1,\n",
       " 'ORTHO_FEATURES': 2,\n",
       " 'ERGO_FEATURES': 3,\n",
       " 'COMPARISON': 4,\n",
       " 'WARRANTY': 5,\n",
       " '100_NIGHT_TRIAL_OFFER': 6,\n",
       " 'SIZE_CUSTOMIZATION': 7,\n",
       " 'WHAT_SIZE_TO_ORDER': 8,\n",
       " 'LEAD_GEN': 9,\n",
       " 'CHECK_PINCODE': 10,\n",
       " 'DISTRIBUTORS': 11,\n",
       " 'MATTRESS_COST': 12,\n",
       " 'PRODUCT_VARIANTS': 13,\n",
       " 'ABOUT_SOF_MATTRESS': 14,\n",
       " 'DELAY_IN_DELIVERY': 15,\n",
       " 'ORDER_STATUS': 16,\n",
       " 'RETURN_EXCHANGE': 17,\n",
       " 'CANCEL_ORDER': 18,\n",
       " 'PILLOWS': 19,\n",
       " 'OFFERS': 20,\n",
       " 'NO_NODES_DETECTED': 21}"
      ]
     },
     "execution_count": 11,
     "metadata": {},
     "output_type": "execute_result"
    }
   ],
   "source": [
    "dict_labels = dict([(value, key) for key, value in dict_labels.items()])\n",
    "dict_labels"
   ]
  },
  {
   "cell_type": "code",
   "execution_count": 12,
   "metadata": {},
   "outputs": [],
   "source": [
    "with open(\"../config/labels.json\", \"w+\") as outfile: \n",
    "    json.dump(dict_labels, outfile)"
   ]
  }
 ],
 "metadata": {
  "kernelspec": {
   "display_name": "Python 3",
   "language": "python",
   "name": "python3"
  },
  "language_info": {
   "codemirror_mode": {
    "name": "ipython",
    "version": 3
   },
   "file_extension": ".py",
   "mimetype": "text/x-python",
   "name": "python",
   "nbconvert_exporter": "python",
   "pygments_lexer": "ipython3",
   "version": "3.6.10"
  }
 },
 "nbformat": 4,
 "nbformat_minor": 4
}
