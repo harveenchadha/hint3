{
 "cells": [
  {
   "cell_type": "code",
   "execution_count": 1,
   "metadata": {},
   "outputs": [],
   "source": [
    "import pandas as pd\n",
    "import numpy as np\n",
    "import re"
   ]
  },
  {
   "cell_type": "code",
   "execution_count": 2,
   "metadata": {},
   "outputs": [],
   "source": [
    "df_fold_1_train = pd.read_csv('../results/fold_1/train_preds.csv')\n",
    "df_fold_2_train = pd.read_csv('../results/fold_2/train_preds.csv')\n",
    "df_fold_3_train = pd.read_csv('../results/fold_3/train_preds.csv')\n",
    "df_fold_4_train = pd.read_csv('../results/fold_4/train_preds.csv')\n",
    "df_fold_0_train = pd.read_csv('../results/fold_0/train_preds.csv')\n",
    "\n",
    "\n",
    "df_fold_1_valid = pd.read_csv('../results/fold_1/valid_preds.csv')\n",
    "df_fold_2_valid = pd.read_csv('../results/fold_2/valid_preds.csv')\n",
    "df_fold_3_valid = pd.read_csv('../results/fold_3/valid_preds.csv')\n",
    "df_fold_4_valid = pd.read_csv('../results/fold_4/valid_preds.csv')\n",
    "df_fold_0_valid = pd.read_csv('../results/fold_0/valid_preds.csv')"
   ]
  },
  {
   "cell_type": "code",
   "execution_count": 3,
   "metadata": {},
   "outputs": [],
   "source": [
    "df_fold = pd.concat([df_fold_1_train, df_fold_2_train])\n",
    "df_fold = pd.concat([df_fold, df_fold_3_train])\n",
    "df_fold = pd.concat([df_fold, df_fold_4_train])\n",
    "df_fold = pd.concat([df_fold, df_fold_0_train])\n"
   ]
  },
  {
   "cell_type": "code",
   "execution_count": 4,
   "metadata": {},
   "outputs": [],
   "source": [
    "df_train = df_fold.groupby('index').agg('mean').reset_index()"
   ]
  },
  {
   "cell_type": "code",
   "execution_count": 5,
   "metadata": {},
   "outputs": [],
   "source": [
    "p = re.compile('label_*')\n",
    "label_cols = [ s for s in df_train.columns if p.match(s) ]\n",
    "\n",
    "def get_original_label(row):\n",
    "    \n",
    "    for label, item in zip(label_cols, row[label_cols]):\n",
    "        if item == 1:\n",
    "            return label"
   ]
  },
  {
   "cell_type": "code",
   "execution_count": 6,
   "metadata": {},
   "outputs": [],
   "source": [
    "df_train['original_label']  = df_train.apply(get_original_label, axis=1)"
   ]
  },
  {
   "cell_type": "code",
   "execution_count": 7,
   "metadata": {},
   "outputs": [],
   "source": [
    "pred_cols = [label.split('_')[-1] for label in label_cols]"
   ]
  },
  {
   "cell_type": "code",
   "execution_count": 8,
   "metadata": {},
   "outputs": [],
   "source": [
    "def get_predicted_label(row):\n",
    "    local_row = row[pred_cols]\n",
    "    indx = np.argmax(local_row)\n",
    "    conf = local_row[indx]\n",
    "    row['confidence'] = conf\n",
    "    row['pred_label'] = indx\n",
    "    return row\n",
    "    \n",
    "#     for label, item in zip(label_cols, row[label_cols]):\n",
    "#         if item == 1:\n",
    "#             return label"
   ]
  },
  {
   "cell_type": "code",
   "execution_count": 9,
   "metadata": {},
   "outputs": [],
   "source": [
    "df_train['pred_label'] = -1\n",
    "df_train['confidence'] = -1"
   ]
  },
  {
   "cell_type": "code",
   "execution_count": 10,
   "metadata": {},
   "outputs": [],
   "source": [
    "df_train = df_train.apply(get_predicted_label, axis=1)"
   ]
  },
  {
   "cell_type": "code",
   "execution_count": 11,
   "metadata": {},
   "outputs": [],
   "source": [
    "def get_training_accuracy(row):\n",
    "    if row['original_label'] == 'label_'+str(row['pred_label']):\n",
    "        return 'yes'\n",
    "    else:\n",
    "        return 'no'"
   ]
  },
  {
   "cell_type": "code",
   "execution_count": 12,
   "metadata": {},
   "outputs": [],
   "source": [
    "df_train['correct'] = df_train.apply(get_training_accuracy, axis=1)"
   ]
  },
  {
   "cell_type": "code",
   "execution_count": 13,
   "metadata": {},
   "outputs": [
    {
     "data": {
      "text/plain": [
       "yes    328\n",
       "Name: correct, dtype: int64"
      ]
     },
     "execution_count": 13,
     "metadata": {},
     "output_type": "execute_result"
    }
   ],
   "source": [
    "df_train['correct'].value_counts()"
   ]
  },
  {
   "cell_type": "markdown",
   "metadata": {},
   "source": [
    "## Validation Accuracy"
   ]
  },
  {
   "cell_type": "code",
   "execution_count": 14,
   "metadata": {},
   "outputs": [],
   "source": [
    "df_fold = pd.concat([df_fold_1_valid, df_fold_2_valid])\n",
    "df_fold = pd.concat([df_fold, df_fold_3_valid])\n",
    "df_fold = pd.concat([df_fold, df_fold_4_valid])\n",
    "df_fold = pd.concat([df_fold, df_fold_0_valid])\n"
   ]
  },
  {
   "cell_type": "code",
   "execution_count": 15,
   "metadata": {},
   "outputs": [
    {
     "data": {
      "text/html": [
       "<div>\n",
       "<style scoped>\n",
       "    .dataframe tbody tr th:only-of-type {\n",
       "        vertical-align: middle;\n",
       "    }\n",
       "\n",
       "    .dataframe tbody tr th {\n",
       "        vertical-align: top;\n",
       "    }\n",
       "\n",
       "    .dataframe thead th {\n",
       "        text-align: right;\n",
       "    }\n",
       "</style>\n",
       "<table border=\"1\" class=\"dataframe\">\n",
       "  <thead>\n",
       "    <tr style=\"text-align: right;\">\n",
       "      <th></th>\n",
       "      <th>index</th>\n",
       "      <th>sentence</th>\n",
       "      <th>fold</th>\n",
       "      <th>label_0</th>\n",
       "      <th>label_1</th>\n",
       "      <th>label_2</th>\n",
       "      <th>label_3</th>\n",
       "      <th>label_4</th>\n",
       "      <th>label_5</th>\n",
       "      <th>label_6</th>\n",
       "      <th>...</th>\n",
       "      <th>11</th>\n",
       "      <th>12</th>\n",
       "      <th>13</th>\n",
       "      <th>14</th>\n",
       "      <th>15</th>\n",
       "      <th>16</th>\n",
       "      <th>17</th>\n",
       "      <th>18</th>\n",
       "      <th>19</th>\n",
       "      <th>20</th>\n",
       "    </tr>\n",
       "  </thead>\n",
       "  <tbody>\n",
       "    <tr>\n",
       "      <th>0</th>\n",
       "      <td>3</td>\n",
       "      <td>can pay later on delivery</td>\n",
       "      <td>1</td>\n",
       "      <td>0</td>\n",
       "      <td>1</td>\n",
       "      <td>0</td>\n",
       "      <td>0</td>\n",
       "      <td>0</td>\n",
       "      <td>0</td>\n",
       "      <td>0</td>\n",
       "      <td>...</td>\n",
       "      <td>0.002779</td>\n",
       "      <td>0.000950</td>\n",
       "      <td>0.002196</td>\n",
       "      <td>0.002424</td>\n",
       "      <td>0.007956</td>\n",
       "      <td>0.003878</td>\n",
       "      <td>0.576895</td>\n",
       "      <td>0.074877</td>\n",
       "      <td>0.000757</td>\n",
       "      <td>0.146063</td>\n",
       "    </tr>\n",
       "    <tr>\n",
       "      <th>1</th>\n",
       "      <td>27</td>\n",
       "      <td>order #</td>\n",
       "      <td>1</td>\n",
       "      <td>0</td>\n",
       "      <td>0</td>\n",
       "      <td>0</td>\n",
       "      <td>0</td>\n",
       "      <td>0</td>\n",
       "      <td>0</td>\n",
       "      <td>0</td>\n",
       "      <td>...</td>\n",
       "      <td>0.000696</td>\n",
       "      <td>0.000555</td>\n",
       "      <td>0.000169</td>\n",
       "      <td>0.000108</td>\n",
       "      <td>0.000751</td>\n",
       "      <td>0.989363</td>\n",
       "      <td>0.000236</td>\n",
       "      <td>0.002638</td>\n",
       "      <td>0.000135</td>\n",
       "      <td>0.000154</td>\n",
       "    </tr>\n",
       "    <tr>\n",
       "      <th>2</th>\n",
       "      <td>28</td>\n",
       "      <td>what is my order status?</td>\n",
       "      <td>1</td>\n",
       "      <td>0</td>\n",
       "      <td>0</td>\n",
       "      <td>0</td>\n",
       "      <td>0</td>\n",
       "      <td>0</td>\n",
       "      <td>0</td>\n",
       "      <td>0</td>\n",
       "      <td>...</td>\n",
       "      <td>0.000759</td>\n",
       "      <td>0.000418</td>\n",
       "      <td>0.000155</td>\n",
       "      <td>0.000091</td>\n",
       "      <td>0.000710</td>\n",
       "      <td>0.989602</td>\n",
       "      <td>0.000238</td>\n",
       "      <td>0.002747</td>\n",
       "      <td>0.000120</td>\n",
       "      <td>0.000178</td>\n",
       "    </tr>\n",
       "    <tr>\n",
       "      <th>3</th>\n",
       "      <td>35</td>\n",
       "      <td>what are the sof mattress products</td>\n",
       "      <td>1</td>\n",
       "      <td>0</td>\n",
       "      <td>0</td>\n",
       "      <td>0</td>\n",
       "      <td>0</td>\n",
       "      <td>0</td>\n",
       "      <td>0</td>\n",
       "      <td>0</td>\n",
       "      <td>...</td>\n",
       "      <td>0.000390</td>\n",
       "      <td>0.099681</td>\n",
       "      <td>0.717535</td>\n",
       "      <td>0.132713</td>\n",
       "      <td>0.002841</td>\n",
       "      <td>0.001044</td>\n",
       "      <td>0.000374</td>\n",
       "      <td>0.000398</td>\n",
       "      <td>0.002304</td>\n",
       "      <td>0.000173</td>\n",
       "    </tr>\n",
       "    <tr>\n",
       "      <th>4</th>\n",
       "      <td>48</td>\n",
       "      <td>want to know about warranty</td>\n",
       "      <td>1</td>\n",
       "      <td>0</td>\n",
       "      <td>0</td>\n",
       "      <td>0</td>\n",
       "      <td>0</td>\n",
       "      <td>0</td>\n",
       "      <td>1</td>\n",
       "      <td>0</td>\n",
       "      <td>...</td>\n",
       "      <td>0.000104</td>\n",
       "      <td>0.001087</td>\n",
       "      <td>0.000837</td>\n",
       "      <td>0.000331</td>\n",
       "      <td>0.000222</td>\n",
       "      <td>0.001293</td>\n",
       "      <td>0.000338</td>\n",
       "      <td>0.001010</td>\n",
       "      <td>0.000409</td>\n",
       "      <td>0.000044</td>\n",
       "    </tr>\n",
       "    <tr>\n",
       "      <th>...</th>\n",
       "      <td>...</td>\n",
       "      <td>...</td>\n",
       "      <td>...</td>\n",
       "      <td>...</td>\n",
       "      <td>...</td>\n",
       "      <td>...</td>\n",
       "      <td>...</td>\n",
       "      <td>...</td>\n",
       "      <td>...</td>\n",
       "      <td>...</td>\n",
       "      <td>...</td>\n",
       "      <td>...</td>\n",
       "      <td>...</td>\n",
       "      <td>...</td>\n",
       "      <td>...</td>\n",
       "      <td>...</td>\n",
       "      <td>...</td>\n",
       "      <td>...</td>\n",
       "      <td>...</td>\n",
       "      <td>...</td>\n",
       "      <td>...</td>\n",
       "    </tr>\n",
       "    <tr>\n",
       "      <th>61</th>\n",
       "      <td>304</td>\n",
       "      <td>order status</td>\n",
       "      <td>0</td>\n",
       "      <td>0</td>\n",
       "      <td>0</td>\n",
       "      <td>0</td>\n",
       "      <td>0</td>\n",
       "      <td>0</td>\n",
       "      <td>0</td>\n",
       "      <td>0</td>\n",
       "      <td>...</td>\n",
       "      <td>0.000320</td>\n",
       "      <td>0.000053</td>\n",
       "      <td>0.000059</td>\n",
       "      <td>0.000011</td>\n",
       "      <td>0.000199</td>\n",
       "      <td>0.997881</td>\n",
       "      <td>0.000051</td>\n",
       "      <td>0.000212</td>\n",
       "      <td>0.000103</td>\n",
       "      <td>0.000052</td>\n",
       "    </tr>\n",
       "    <tr>\n",
       "      <th>62</th>\n",
       "      <td>306</td>\n",
       "      <td>outlet</td>\n",
       "      <td>0</td>\n",
       "      <td>0</td>\n",
       "      <td>0</td>\n",
       "      <td>0</td>\n",
       "      <td>0</td>\n",
       "      <td>0</td>\n",
       "      <td>0</td>\n",
       "      <td>0</td>\n",
       "      <td>...</td>\n",
       "      <td>0.993782</td>\n",
       "      <td>0.001248</td>\n",
       "      <td>0.001045</td>\n",
       "      <td>0.000115</td>\n",
       "      <td>0.000014</td>\n",
       "      <td>0.000917</td>\n",
       "      <td>0.000026</td>\n",
       "      <td>0.000025</td>\n",
       "      <td>0.000397</td>\n",
       "      <td>0.000224</td>\n",
       "    </tr>\n",
       "    <tr>\n",
       "      <th>63</th>\n",
       "      <td>315</td>\n",
       "      <td>inches</td>\n",
       "      <td>0</td>\n",
       "      <td>0</td>\n",
       "      <td>0</td>\n",
       "      <td>0</td>\n",
       "      <td>0</td>\n",
       "      <td>0</td>\n",
       "      <td>0</td>\n",
       "      <td>0</td>\n",
       "      <td>...</td>\n",
       "      <td>0.000100</td>\n",
       "      <td>0.000043</td>\n",
       "      <td>0.000255</td>\n",
       "      <td>0.000011</td>\n",
       "      <td>0.000015</td>\n",
       "      <td>0.000677</td>\n",
       "      <td>0.000012</td>\n",
       "      <td>0.000099</td>\n",
       "      <td>0.000055</td>\n",
       "      <td>0.000009</td>\n",
       "    </tr>\n",
       "    <tr>\n",
       "      <th>64</th>\n",
       "      <td>321</td>\n",
       "      <td>tell me about sof mattresses</td>\n",
       "      <td>0</td>\n",
       "      <td>0</td>\n",
       "      <td>0</td>\n",
       "      <td>0</td>\n",
       "      <td>0</td>\n",
       "      <td>0</td>\n",
       "      <td>0</td>\n",
       "      <td>0</td>\n",
       "      <td>...</td>\n",
       "      <td>0.000058</td>\n",
       "      <td>0.000521</td>\n",
       "      <td>0.005032</td>\n",
       "      <td>0.991593</td>\n",
       "      <td>0.000039</td>\n",
       "      <td>0.000037</td>\n",
       "      <td>0.000054</td>\n",
       "      <td>0.000026</td>\n",
       "      <td>0.000231</td>\n",
       "      <td>0.000511</td>\n",
       "    </tr>\n",
       "    <tr>\n",
       "      <th>65</th>\n",
       "      <td>327</td>\n",
       "      <td>will you be able to deliver here</td>\n",
       "      <td>0</td>\n",
       "      <td>0</td>\n",
       "      <td>0</td>\n",
       "      <td>0</td>\n",
       "      <td>0</td>\n",
       "      <td>0</td>\n",
       "      <td>0</td>\n",
       "      <td>0</td>\n",
       "      <td>...</td>\n",
       "      <td>0.000009</td>\n",
       "      <td>0.000005</td>\n",
       "      <td>0.000084</td>\n",
       "      <td>0.000009</td>\n",
       "      <td>0.000117</td>\n",
       "      <td>0.000110</td>\n",
       "      <td>0.000478</td>\n",
       "      <td>0.000026</td>\n",
       "      <td>0.000455</td>\n",
       "      <td>0.000002</td>\n",
       "    </tr>\n",
       "  </tbody>\n",
       "</table>\n",
       "<p>328 rows × 45 columns</p>\n",
       "</div>"
      ],
      "text/plain": [
       "    index                            sentence  fold  label_0  label_1  \\\n",
       "0       3          can pay later on delivery      1        0        1   \n",
       "1      27                             order #     1        0        0   \n",
       "2      28            what is my order status?     1        0        0   \n",
       "3      35  what are the sof mattress products     1        0        0   \n",
       "4      48         want to know about warranty     1        0        0   \n",
       "..    ...                                 ...   ...      ...      ...   \n",
       "61    304                        order status     0        0        0   \n",
       "62    306                              outlet     0        0        0   \n",
       "63    315                              inches     0        0        0   \n",
       "64    321        tell me about sof mattresses     0        0        0   \n",
       "65    327    will you be able to deliver here     0        0        0   \n",
       "\n",
       "    label_2  label_3  label_4  label_5  label_6  ...        11        12  \\\n",
       "0         0        0        0        0        0  ...  0.002779  0.000950   \n",
       "1         0        0        0        0        0  ...  0.000696  0.000555   \n",
       "2         0        0        0        0        0  ...  0.000759  0.000418   \n",
       "3         0        0        0        0        0  ...  0.000390  0.099681   \n",
       "4         0        0        0        1        0  ...  0.000104  0.001087   \n",
       "..      ...      ...      ...      ...      ...  ...       ...       ...   \n",
       "61        0        0        0        0        0  ...  0.000320  0.000053   \n",
       "62        0        0        0        0        0  ...  0.993782  0.001248   \n",
       "63        0        0        0        0        0  ...  0.000100  0.000043   \n",
       "64        0        0        0        0        0  ...  0.000058  0.000521   \n",
       "65        0        0        0        0        0  ...  0.000009  0.000005   \n",
       "\n",
       "          13        14        15        16        17        18        19  \\\n",
       "0   0.002196  0.002424  0.007956  0.003878  0.576895  0.074877  0.000757   \n",
       "1   0.000169  0.000108  0.000751  0.989363  0.000236  0.002638  0.000135   \n",
       "2   0.000155  0.000091  0.000710  0.989602  0.000238  0.002747  0.000120   \n",
       "3   0.717535  0.132713  0.002841  0.001044  0.000374  0.000398  0.002304   \n",
       "4   0.000837  0.000331  0.000222  0.001293  0.000338  0.001010  0.000409   \n",
       "..       ...       ...       ...       ...       ...       ...       ...   \n",
       "61  0.000059  0.000011  0.000199  0.997881  0.000051  0.000212  0.000103   \n",
       "62  0.001045  0.000115  0.000014  0.000917  0.000026  0.000025  0.000397   \n",
       "63  0.000255  0.000011  0.000015  0.000677  0.000012  0.000099  0.000055   \n",
       "64  0.005032  0.991593  0.000039  0.000037  0.000054  0.000026  0.000231   \n",
       "65  0.000084  0.000009  0.000117  0.000110  0.000478  0.000026  0.000455   \n",
       "\n",
       "          20  \n",
       "0   0.146063  \n",
       "1   0.000154  \n",
       "2   0.000178  \n",
       "3   0.000173  \n",
       "4   0.000044  \n",
       "..       ...  \n",
       "61  0.000052  \n",
       "62  0.000224  \n",
       "63  0.000009  \n",
       "64  0.000511  \n",
       "65  0.000002  \n",
       "\n",
       "[328 rows x 45 columns]"
      ]
     },
     "execution_count": 15,
     "metadata": {},
     "output_type": "execute_result"
    }
   ],
   "source": [
    "df_valid = df_fold\n",
    "df_valid"
   ]
  },
  {
   "cell_type": "code",
   "execution_count": 16,
   "metadata": {},
   "outputs": [],
   "source": [
    "df_valid['original_label']  = df_valid.apply(get_original_label, axis=1)"
   ]
  },
  {
   "cell_type": "code",
   "execution_count": 17,
   "metadata": {},
   "outputs": [],
   "source": [
    "df_valid['pred_label'] = -1\n",
    "df_valid['confidence'] = -1"
   ]
  },
  {
   "cell_type": "code",
   "execution_count": 18,
   "metadata": {},
   "outputs": [],
   "source": [
    "df_valid = df_valid.apply(get_predicted_label, axis=1)"
   ]
  },
  {
   "cell_type": "code",
   "execution_count": 19,
   "metadata": {},
   "outputs": [],
   "source": [
    "df_valid['correct'] = df_valid.apply(get_training_accuracy, axis=1)"
   ]
  },
  {
   "cell_type": "code",
   "execution_count": 20,
   "metadata": {},
   "outputs": [
    {
     "data": {
      "text/plain": [
       "yes    90.54878\n",
       "no      9.45122\n",
       "Name: correct, dtype: float64"
      ]
     },
     "execution_count": 20,
     "metadata": {},
     "output_type": "execute_result"
    }
   ],
   "source": [
    "df_valid.correct.value_counts(normalize=True) * 100"
   ]
  },
  {
   "cell_type": "markdown",
   "metadata": {},
   "source": [
    "## Out of fold validation accuracy is 90%"
   ]
  },
  {
   "cell_type": "markdown",
   "metadata": {},
   "source": [
    "### Fold wise validation accuracy"
   ]
  },
  {
   "cell_type": "code",
   "execution_count": 23,
   "metadata": {},
   "outputs": [
    {
     "name": "stdout",
     "output_type": "stream",
     "text": [
      "Fold  0\n",
      "yes    87.878788\n",
      "no     12.121212\n",
      "Name: correct, dtype: float64\n",
      "Fold  1\n",
      "yes    89.393939\n",
      "no     10.606061\n",
      "Name: correct, dtype: float64\n",
      "Fold  2\n",
      "yes    90.909091\n",
      "no      9.090909\n",
      "Name: correct, dtype: float64\n",
      "Fold  3\n",
      "yes    92.307692\n",
      "no      7.692308\n",
      "Name: correct, dtype: float64\n",
      "Fold  4\n",
      "yes    92.307692\n",
      "no      7.692308\n",
      "Name: correct, dtype: float64\n"
     ]
    }
   ],
   "source": [
    "for i in range(0,5):\n",
    "    print(\"Fold \", i)\n",
    "    print(df_valid[df_valid.fold == i].correct.value_counts(normalize =True)*100)"
   ]
  },
  {
   "cell_type": "code",
   "execution_count": 24,
   "metadata": {},
   "outputs": [
    {
     "name": "stdout",
     "output_type": "stream",
     "text": [
      "Fold  0\n",
      "yes    58\n",
      "no      8\n",
      "Name: correct, dtype: int64\n",
      "Fold  1\n",
      "yes    59\n",
      "no      7\n",
      "Name: correct, dtype: int64\n",
      "Fold  2\n",
      "yes    60\n",
      "no      6\n",
      "Name: correct, dtype: int64\n",
      "Fold  3\n",
      "yes    60\n",
      "no      5\n",
      "Name: correct, dtype: int64\n",
      "Fold  4\n",
      "yes    60\n",
      "no      5\n",
      "Name: correct, dtype: int64\n"
     ]
    }
   ],
   "source": [
    "for i in range(0,5):\n",
    "    print(\"Fold \", i)\n",
    "    print(df_valid[df_valid.fold == i].correct.value_counts())"
   ]
  },
  {
   "cell_type": "code",
   "execution_count": 25,
   "metadata": {},
   "outputs": [
    {
     "data": {
      "text/plain": [
       "2    66\n",
       "1    66\n",
       "0    66\n",
       "4    65\n",
       "3    65\n",
       "Name: fold, dtype: int64"
      ]
     },
     "execution_count": 25,
     "metadata": {},
     "output_type": "execute_result"
    }
   ],
   "source": [
    "df_valid.fold.value_counts()"
   ]
  },
  {
   "cell_type": "code",
   "execution_count": null,
   "metadata": {},
   "outputs": [],
   "source": []
  }
 ],
 "metadata": {
  "kernelspec": {
   "display_name": "Python 3",
   "language": "python",
   "name": "python3"
  },
  "language_info": {
   "codemirror_mode": {
    "name": "ipython",
    "version": 3
   },
   "file_extension": ".py",
   "mimetype": "text/x-python",
   "name": "python",
   "nbconvert_exporter": "python",
   "pygments_lexer": "ipython3",
   "version": "3.6.10"
  }
 },
 "nbformat": 4,
 "nbformat_minor": 4
}
